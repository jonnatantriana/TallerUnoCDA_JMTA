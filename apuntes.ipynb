{
 "cells": [
  {
   "cell_type": "code",
   "execution_count": 5,
   "metadata": {},
   "outputs": [
    {
     "ename": "ModuleNotFoundError",
     "evalue": "No module named 'plotly'",
     "output_type": "error",
     "traceback": [
      "\u001b[1;31m---------------------------------------------------------------------------\u001b[0m",
      "\u001b[1;31mModuleNotFoundError\u001b[0m                       Traceback (most recent call last)",
      "Cell \u001b[1;32mIn[5], line 6\u001b[0m\n\u001b[0;32m      4\u001b[0m \u001b[39mimport\u001b[39;00m \u001b[39mseaborn\u001b[39;00m \u001b[39mas\u001b[39;00m \u001b[39msns\u001b[39;00m\n\u001b[0;32m      5\u001b[0m \u001b[39mimport\u001b[39;00m \u001b[39mtime\u001b[39;00m\n\u001b[1;32m----> 6\u001b[0m \u001b[39mimport\u001b[39;00m \u001b[39mplotly\u001b[39;00m\u001b[39m.\u001b[39;00m\u001b[39mexpress\u001b[39;00m \u001b[39mas\u001b[39;00m \u001b[39mpx\u001b[39;00m\n\u001b[0;32m      7\u001b[0m \u001b[39mimport\u001b[39;00m \u001b[39mplotly\u001b[39;00m\u001b[39m.\u001b[39;00m\u001b[39mgraph_objects\u001b[39;00m \u001b[39mas\u001b[39;00m \u001b[39mgo\u001b[39;00m\n\u001b[0;32m      8\u001b[0m \u001b[39mimport\u001b[39;00m \u001b[39mfolium\u001b[39;00m \u001b[39mas\u001b[39;00m \u001b[39mfl\u001b[39;00m\n",
      "\u001b[1;31mModuleNotFoundError\u001b[0m: No module named 'plotly'"
     ]
    }
   ],
   "source": [
    "import pandas as pd\n",
    "import numpy as np\n",
    "import matplotlib.pyplot as plt\n",
    "import seaborn as sns\n",
    "import time\n",
    "import plotly.express as px\n",
    "import plotly.graph_objects as go\n",
    "import folium as fl\n",
    "pd.set_option(\"display.max_columns\", None)\n",
    "pd.set_option(\"display.max_rows\", 100)\n"
   ]
  },
  {
   "cell_type": "code",
   "execution_count": 8,
   "metadata": {},
   "outputs": [
    {
     "data": {
      "text/html": [
       "<div>\n",
       "<style scoped>\n",
       "    .dataframe tbody tr th:only-of-type {\n",
       "        vertical-align: middle;\n",
       "    }\n",
       "\n",
       "    .dataframe tbody tr th {\n",
       "        vertical-align: top;\n",
       "    }\n",
       "\n",
       "    .dataframe thead th {\n",
       "        text-align: right;\n",
       "    }\n",
       "</style>\n",
       "<table border=\"1\" class=\"dataframe\">\n",
       "  <thead>\n",
       "    <tr style=\"text-align: right;\">\n",
       "      <th></th>\n",
       "      <th>id</th>\n",
       "      <th>listing_url</th>\n",
       "      <th>scrape_id</th>\n",
       "      <th>last_scraped</th>\n",
       "      <th>source</th>\n",
       "      <th>name</th>\n",
       "      <th>description</th>\n",
       "      <th>neighborhood_overview</th>\n",
       "      <th>picture_url</th>\n",
       "      <th>host_id</th>\n",
       "      <th>...</th>\n",
       "      <th>review_scores_communication</th>\n",
       "      <th>review_scores_location</th>\n",
       "      <th>review_scores_value</th>\n",
       "      <th>license</th>\n",
       "      <th>instant_bookable</th>\n",
       "      <th>calculated_host_listings_count</th>\n",
       "      <th>calculated_host_listings_count_entire_homes</th>\n",
       "      <th>calculated_host_listings_count_private_rooms</th>\n",
       "      <th>calculated_host_listings_count_shared_rooms</th>\n",
       "      <th>reviews_per_month</th>\n",
       "    </tr>\n",
       "  </thead>\n",
       "  <tbody>\n",
       "    <tr>\n",
       "      <th>0</th>\n",
       "      <td>11508</td>\n",
       "      <td>https://www.airbnb.com/rooms/11508</td>\n",
       "      <td>20230628025456</td>\n",
       "      <td>2023-06-29</td>\n",
       "      <td>city scrape</td>\n",
       "      <td>Condo in Buenos Aires · ★4.81 · 1 bedroom · 1 ...</td>\n",
       "      <td>LUXURIOUS 1 BDRM APT- POOL/ GYM/ SPA/ 24-HR SE...</td>\n",
       "      <td>AREA: PALERMO SOHO&lt;br /&gt;&lt;br /&gt;Minutes walking ...</td>\n",
       "      <td>https://a0.muscache.com/pictures/19357696/b1de...</td>\n",
       "      <td>42762</td>\n",
       "      <td>...</td>\n",
       "      <td>4.97</td>\n",
       "      <td>4.94</td>\n",
       "      <td>4.89</td>\n",
       "      <td>NaN</td>\n",
       "      <td>f</td>\n",
       "      <td>1</td>\n",
       "      <td>1</td>\n",
       "      <td>0</td>\n",
       "      <td>0</td>\n",
       "      <td>0.27</td>\n",
       "    </tr>\n",
       "    <tr>\n",
       "      <th>1</th>\n",
       "      <td>14222</td>\n",
       "      <td>https://www.airbnb.com/rooms/14222</td>\n",
       "      <td>20230628025456</td>\n",
       "      <td>2023-06-28</td>\n",
       "      <td>city scrape</td>\n",
       "      <td>Rental unit in Palermo/Buenos Aires · ★4.78 · ...</td>\n",
       "      <td>Beautiful cozy apartment in excellent location...</td>\n",
       "      <td>Palermo is such a perfect place to explore the...</td>\n",
       "      <td>https://a0.muscache.com/pictures/4695637/bbae8...</td>\n",
       "      <td>87710233</td>\n",
       "      <td>...</td>\n",
       "      <td>4.90</td>\n",
       "      <td>4.89</td>\n",
       "      <td>4.75</td>\n",
       "      <td>NaN</td>\n",
       "      <td>f</td>\n",
       "      <td>6</td>\n",
       "      <td>6</td>\n",
       "      <td>0</td>\n",
       "      <td>0</td>\n",
       "      <td>0.81</td>\n",
       "    </tr>\n",
       "    <tr>\n",
       "      <th>2</th>\n",
       "      <td>206738</td>\n",
       "      <td>https://www.airbnb.com/rooms/206738</td>\n",
       "      <td>20230628025456</td>\n",
       "      <td>2023-06-29</td>\n",
       "      <td>city scrape</td>\n",
       "      <td>Rental unit in Buenos Aires · ★4.71 · 3 bedroo...</td>\n",
       "      <td>Recently renovated 3 bedroom apartment in Pale...</td>\n",
       "      <td>Palermo is fortunate to have great transport l...</td>\n",
       "      <td>https://a0.muscache.com/pictures/8b3b1257-fe36...</td>\n",
       "      <td>1011896</td>\n",
       "      <td>...</td>\n",
       "      <td>4.80</td>\n",
       "      <td>4.84</td>\n",
       "      <td>4.68</td>\n",
       "      <td>NaN</td>\n",
       "      <td>f</td>\n",
       "      <td>11</td>\n",
       "      <td>11</td>\n",
       "      <td>0</td>\n",
       "      <td>0</td>\n",
       "      <td>0.30</td>\n",
       "    </tr>\n",
       "    <tr>\n",
       "      <th>3</th>\n",
       "      <td>210040</td>\n",
       "      <td>https://www.airbnb.com/rooms/210040</td>\n",
       "      <td>20230628025456</td>\n",
       "      <td>2023-06-29</td>\n",
       "      <td>city scrape</td>\n",
       "      <td>Condo in Buenos Aires · ★4.92 · 1 bedroom · 1 ...</td>\n",
       "      <td>Modern studio apartment on the 13th floor with...</td>\n",
       "      <td>If you’re an expat or vacationer spending time...</td>\n",
       "      <td>https://a0.muscache.com/pictures/2796ebd8-cbee...</td>\n",
       "      <td>319901</td>\n",
       "      <td>...</td>\n",
       "      <td>4.93</td>\n",
       "      <td>4.93</td>\n",
       "      <td>4.73</td>\n",
       "      <td>NaN</td>\n",
       "      <td>f</td>\n",
       "      <td>24</td>\n",
       "      <td>24</td>\n",
       "      <td>0</td>\n",
       "      <td>0</td>\n",
       "      <td>0.65</td>\n",
       "    </tr>\n",
       "    <tr>\n",
       "      <th>4</th>\n",
       "      <td>92228</td>\n",
       "      <td>https://www.airbnb.com/rooms/92228</td>\n",
       "      <td>20230628025456</td>\n",
       "      <td>2023-06-28</td>\n",
       "      <td>city scrape</td>\n",
       "      <td>Rental unit in Buenos Aires · 2 bedrooms · 3 b...</td>\n",
       "      <td>&lt;b&gt;The space&lt;/b&gt;&lt;br /&gt;Departamento de 3 ambien...</td>\n",
       "      <td>El barrio es muy residencial, con dos supermer...</td>\n",
       "      <td>https://a0.muscache.com/pictures/b44a79ec-af05...</td>\n",
       "      <td>494027</td>\n",
       "      <td>...</td>\n",
       "      <td>5.00</td>\n",
       "      <td>5.00</td>\n",
       "      <td>5.00</td>\n",
       "      <td>NaN</td>\n",
       "      <td>t</td>\n",
       "      <td>2</td>\n",
       "      <td>2</td>\n",
       "      <td>0</td>\n",
       "      <td>0</td>\n",
       "      <td>0.05</td>\n",
       "    </tr>\n",
       "    <tr>\n",
       "      <th>...</th>\n",
       "      <td>...</td>\n",
       "      <td>...</td>\n",
       "      <td>...</td>\n",
       "      <td>...</td>\n",
       "      <td>...</td>\n",
       "      <td>...</td>\n",
       "      <td>...</td>\n",
       "      <td>...</td>\n",
       "      <td>...</td>\n",
       "      <td>...</td>\n",
       "      <td>...</td>\n",
       "      <td>...</td>\n",
       "      <td>...</td>\n",
       "      <td>...</td>\n",
       "      <td>...</td>\n",
       "      <td>...</td>\n",
       "      <td>...</td>\n",
       "      <td>...</td>\n",
       "      <td>...</td>\n",
       "      <td>...</td>\n",
       "      <td>...</td>\n",
       "    </tr>\n",
       "    <tr>\n",
       "      <th>26199</th>\n",
       "      <td>923195625840585655</td>\n",
       "      <td>https://www.airbnb.com/rooms/923195625840585655</td>\n",
       "      <td>20230628025456</td>\n",
       "      <td>2023-06-29</td>\n",
       "      <td>city scrape</td>\n",
       "      <td>Rental unit in Buenos Aires · ★New · Studio · ...</td>\n",
       "      <td>Una division de vidrio repartido sectoriza sin...</td>\n",
       "      <td>Palermo Hollywood es uno de los barrios más mo...</td>\n",
       "      <td>https://a0.muscache.com/pictures/miso/Hosting-...</td>\n",
       "      <td>1028764</td>\n",
       "      <td>...</td>\n",
       "      <td>NaN</td>\n",
       "      <td>NaN</td>\n",
       "      <td>NaN</td>\n",
       "      <td>NaN</td>\n",
       "      <td>t</td>\n",
       "      <td>76</td>\n",
       "      <td>76</td>\n",
       "      <td>0</td>\n",
       "      <td>0</td>\n",
       "      <td>NaN</td>\n",
       "    </tr>\n",
       "    <tr>\n",
       "      <th>26200</th>\n",
       "      <td>923212677801946586</td>\n",
       "      <td>https://www.airbnb.com/rooms/923212677801946586</td>\n",
       "      <td>20230628025456</td>\n",
       "      <td>2023-06-28</td>\n",
       "      <td>city scrape</td>\n",
       "      <td>Rental unit in Buenos Aires · ★New · 1 bedroom...</td>\n",
       "      <td>Departamento super equipado, hasta 4 personas....</td>\n",
       "      <td>Poder alojarse en Primera Junta es una experie...</td>\n",
       "      <td>https://a0.muscache.com/pictures/miso/Hosting-...</td>\n",
       "      <td>76385222</td>\n",
       "      <td>...</td>\n",
       "      <td>NaN</td>\n",
       "      <td>NaN</td>\n",
       "      <td>NaN</td>\n",
       "      <td>NaN</td>\n",
       "      <td>t</td>\n",
       "      <td>1</td>\n",
       "      <td>1</td>\n",
       "      <td>0</td>\n",
       "      <td>0</td>\n",
       "      <td>NaN</td>\n",
       "    </tr>\n",
       "    <tr>\n",
       "      <th>26201</th>\n",
       "      <td>923235409583837730</td>\n",
       "      <td>https://www.airbnb.com/rooms/923235409583837730</td>\n",
       "      <td>20230628025456</td>\n",
       "      <td>2023-06-28</td>\n",
       "      <td>city scrape</td>\n",
       "      <td>Rental unit in Buenos Aires · ★New · Studio · ...</td>\n",
       "      <td>With a cosmopolitan and modern atmosphere, it ...</td>\n",
       "      <td>NaN</td>\n",
       "      <td>https://a0.muscache.com/pictures/prohost-api/H...</td>\n",
       "      <td>501358052</td>\n",
       "      <td>...</td>\n",
       "      <td>NaN</td>\n",
       "      <td>NaN</td>\n",
       "      <td>NaN</td>\n",
       "      <td>NaN</td>\n",
       "      <td>t</td>\n",
       "      <td>32</td>\n",
       "      <td>32</td>\n",
       "      <td>0</td>\n",
       "      <td>0</td>\n",
       "      <td>NaN</td>\n",
       "    </tr>\n",
       "    <tr>\n",
       "      <th>26202</th>\n",
       "      <td>923265334032756442</td>\n",
       "      <td>https://www.airbnb.com/rooms/923265334032756442</td>\n",
       "      <td>20230628025456</td>\n",
       "      <td>2023-06-28</td>\n",
       "      <td>city scrape</td>\n",
       "      <td>Rental unit in Buenos Aires · ★New · 4 bedroom...</td>\n",
       "      <td>Discover a gem in the heart of Buenos Aires wi...</td>\n",
       "      <td>Retiro neighborhood in Buenos Aires is a vibra...</td>\n",
       "      <td>https://a0.muscache.com/pictures/miso/Hosting-...</td>\n",
       "      <td>468392547</td>\n",
       "      <td>...</td>\n",
       "      <td>NaN</td>\n",
       "      <td>NaN</td>\n",
       "      <td>NaN</td>\n",
       "      <td>NaN</td>\n",
       "      <td>f</td>\n",
       "      <td>1</td>\n",
       "      <td>1</td>\n",
       "      <td>0</td>\n",
       "      <td>0</td>\n",
       "      <td>NaN</td>\n",
       "    </tr>\n",
       "    <tr>\n",
       "      <th>26203</th>\n",
       "      <td>923267707537096994</td>\n",
       "      <td>https://www.airbnb.com/rooms/923267707537096994</td>\n",
       "      <td>20230628025456</td>\n",
       "      <td>2023-06-29</td>\n",
       "      <td>city scrape</td>\n",
       "      <td>Rental unit in Buenos Aires · ★New · Studio · ...</td>\n",
       "      <td>Una división de vidrio repartido sectoriza sin...</td>\n",
       "      <td>Palermo Hollywood es uno de los barrios más mo...</td>\n",
       "      <td>https://a0.muscache.com/pictures/miso/Hosting-...</td>\n",
       "      <td>334271335</td>\n",
       "      <td>...</td>\n",
       "      <td>NaN</td>\n",
       "      <td>NaN</td>\n",
       "      <td>NaN</td>\n",
       "      <td>NaN</td>\n",
       "      <td>t</td>\n",
       "      <td>67</td>\n",
       "      <td>67</td>\n",
       "      <td>0</td>\n",
       "      <td>0</td>\n",
       "      <td>NaN</td>\n",
       "    </tr>\n",
       "  </tbody>\n",
       "</table>\n",
       "<p>26204 rows × 75 columns</p>\n",
       "</div>"
      ],
      "text/plain": [
       "                       id                                      listing_url  \\\n",
       "0                   11508               https://www.airbnb.com/rooms/11508   \n",
       "1                   14222               https://www.airbnb.com/rooms/14222   \n",
       "2                  206738              https://www.airbnb.com/rooms/206738   \n",
       "3                  210040              https://www.airbnb.com/rooms/210040   \n",
       "4                   92228               https://www.airbnb.com/rooms/92228   \n",
       "...                   ...                                              ...   \n",
       "26199  923195625840585655  https://www.airbnb.com/rooms/923195625840585655   \n",
       "26200  923212677801946586  https://www.airbnb.com/rooms/923212677801946586   \n",
       "26201  923235409583837730  https://www.airbnb.com/rooms/923235409583837730   \n",
       "26202  923265334032756442  https://www.airbnb.com/rooms/923265334032756442   \n",
       "26203  923267707537096994  https://www.airbnb.com/rooms/923267707537096994   \n",
       "\n",
       "            scrape_id last_scraped       source  \\\n",
       "0      20230628025456   2023-06-29  city scrape   \n",
       "1      20230628025456   2023-06-28  city scrape   \n",
       "2      20230628025456   2023-06-29  city scrape   \n",
       "3      20230628025456   2023-06-29  city scrape   \n",
       "4      20230628025456   2023-06-28  city scrape   \n",
       "...               ...          ...          ...   \n",
       "26199  20230628025456   2023-06-29  city scrape   \n",
       "26200  20230628025456   2023-06-28  city scrape   \n",
       "26201  20230628025456   2023-06-28  city scrape   \n",
       "26202  20230628025456   2023-06-28  city scrape   \n",
       "26203  20230628025456   2023-06-29  city scrape   \n",
       "\n",
       "                                                    name  \\\n",
       "0      Condo in Buenos Aires · ★4.81 · 1 bedroom · 1 ...   \n",
       "1      Rental unit in Palermo/Buenos Aires · ★4.78 · ...   \n",
       "2      Rental unit in Buenos Aires · ★4.71 · 3 bedroo...   \n",
       "3      Condo in Buenos Aires · ★4.92 · 1 bedroom · 1 ...   \n",
       "4      Rental unit in Buenos Aires · 2 bedrooms · 3 b...   \n",
       "...                                                  ...   \n",
       "26199  Rental unit in Buenos Aires · ★New · Studio · ...   \n",
       "26200  Rental unit in Buenos Aires · ★New · 1 bedroom...   \n",
       "26201  Rental unit in Buenos Aires · ★New · Studio · ...   \n",
       "26202  Rental unit in Buenos Aires · ★New · 4 bedroom...   \n",
       "26203  Rental unit in Buenos Aires · ★New · Studio · ...   \n",
       "\n",
       "                                             description  \\\n",
       "0      LUXURIOUS 1 BDRM APT- POOL/ GYM/ SPA/ 24-HR SE...   \n",
       "1      Beautiful cozy apartment in excellent location...   \n",
       "2      Recently renovated 3 bedroom apartment in Pale...   \n",
       "3      Modern studio apartment on the 13th floor with...   \n",
       "4      <b>The space</b><br />Departamento de 3 ambien...   \n",
       "...                                                  ...   \n",
       "26199  Una division de vidrio repartido sectoriza sin...   \n",
       "26200  Departamento super equipado, hasta 4 personas....   \n",
       "26201  With a cosmopolitan and modern atmosphere, it ...   \n",
       "26202  Discover a gem in the heart of Buenos Aires wi...   \n",
       "26203  Una división de vidrio repartido sectoriza sin...   \n",
       "\n",
       "                                   neighborhood_overview  \\\n",
       "0      AREA: PALERMO SOHO<br /><br />Minutes walking ...   \n",
       "1      Palermo is such a perfect place to explore the...   \n",
       "2      Palermo is fortunate to have great transport l...   \n",
       "3      If you’re an expat or vacationer spending time...   \n",
       "4      El barrio es muy residencial, con dos supermer...   \n",
       "...                                                  ...   \n",
       "26199  Palermo Hollywood es uno de los barrios más mo...   \n",
       "26200  Poder alojarse en Primera Junta es una experie...   \n",
       "26201                                                NaN   \n",
       "26202  Retiro neighborhood in Buenos Aires is a vibra...   \n",
       "26203  Palermo Hollywood es uno de los barrios más mo...   \n",
       "\n",
       "                                             picture_url    host_id  ...  \\\n",
       "0      https://a0.muscache.com/pictures/19357696/b1de...      42762  ...   \n",
       "1      https://a0.muscache.com/pictures/4695637/bbae8...   87710233  ...   \n",
       "2      https://a0.muscache.com/pictures/8b3b1257-fe36...    1011896  ...   \n",
       "3      https://a0.muscache.com/pictures/2796ebd8-cbee...     319901  ...   \n",
       "4      https://a0.muscache.com/pictures/b44a79ec-af05...     494027  ...   \n",
       "...                                                  ...        ...  ...   \n",
       "26199  https://a0.muscache.com/pictures/miso/Hosting-...    1028764  ...   \n",
       "26200  https://a0.muscache.com/pictures/miso/Hosting-...   76385222  ...   \n",
       "26201  https://a0.muscache.com/pictures/prohost-api/H...  501358052  ...   \n",
       "26202  https://a0.muscache.com/pictures/miso/Hosting-...  468392547  ...   \n",
       "26203  https://a0.muscache.com/pictures/miso/Hosting-...  334271335  ...   \n",
       "\n",
       "      review_scores_communication review_scores_location review_scores_value  \\\n",
       "0                            4.97                   4.94                4.89   \n",
       "1                            4.90                   4.89                4.75   \n",
       "2                            4.80                   4.84                4.68   \n",
       "3                            4.93                   4.93                4.73   \n",
       "4                            5.00                   5.00                5.00   \n",
       "...                           ...                    ...                 ...   \n",
       "26199                         NaN                    NaN                 NaN   \n",
       "26200                         NaN                    NaN                 NaN   \n",
       "26201                         NaN                    NaN                 NaN   \n",
       "26202                         NaN                    NaN                 NaN   \n",
       "26203                         NaN                    NaN                 NaN   \n",
       "\n",
       "      license instant_bookable calculated_host_listings_count  \\\n",
       "0         NaN                f                              1   \n",
       "1         NaN                f                              6   \n",
       "2         NaN                f                             11   \n",
       "3         NaN                f                             24   \n",
       "4         NaN                t                              2   \n",
       "...       ...              ...                            ...   \n",
       "26199     NaN                t                             76   \n",
       "26200     NaN                t                              1   \n",
       "26201     NaN                t                             32   \n",
       "26202     NaN                f                              1   \n",
       "26203     NaN                t                             67   \n",
       "\n",
       "      calculated_host_listings_count_entire_homes  \\\n",
       "0                                               1   \n",
       "1                                               6   \n",
       "2                                              11   \n",
       "3                                              24   \n",
       "4                                               2   \n",
       "...                                           ...   \n",
       "26199                                          76   \n",
       "26200                                           1   \n",
       "26201                                          32   \n",
       "26202                                           1   \n",
       "26203                                          67   \n",
       "\n",
       "      calculated_host_listings_count_private_rooms  \\\n",
       "0                                                0   \n",
       "1                                                0   \n",
       "2                                                0   \n",
       "3                                                0   \n",
       "4                                                0   \n",
       "...                                            ...   \n",
       "26199                                            0   \n",
       "26200                                            0   \n",
       "26201                                            0   \n",
       "26202                                            0   \n",
       "26203                                            0   \n",
       "\n",
       "      calculated_host_listings_count_shared_rooms reviews_per_month  \n",
       "0                                               0              0.27  \n",
       "1                                               0              0.81  \n",
       "2                                               0              0.30  \n",
       "3                                               0              0.65  \n",
       "4                                               0              0.05  \n",
       "...                                           ...               ...  \n",
       "26199                                           0               NaN  \n",
       "26200                                           0               NaN  \n",
       "26201                                           0               NaN  \n",
       "26202                                           0               NaN  \n",
       "26203                                           0               NaN  \n",
       "\n",
       "[26204 rows x 75 columns]"
      ]
     },
     "execution_count": 8,
     "metadata": {},
     "output_type": "execute_result"
    }
   ],
   "source": [
    "listings_df = pd.read_csv(\"./listings.csv.gz\")\n",
    "listings_df"
   ]
  },
  {
   "cell_type": "code",
   "execution_count": 9,
   "metadata": {},
   "outputs": [],
   "source": [
    "rental_price = listings_df.loc[:, 'price']"
   ]
  },
  {
   "cell_type": "code",
   "execution_count": 12,
   "metadata": {},
   "outputs": [
    {
     "data": {
      "text/plain": [
       "price                   object\n",
       "host_response_rate      object\n",
       "host_acceptance_rate    object\n",
       "dtype: object"
      ]
     },
     "execution_count": 12,
     "metadata": {},
     "output_type": "execute_result"
    }
   ],
   "source": [
    "listings_df[\n",
    "    [\"price\",\"host_response_rate\",\"host_acceptance_rate\"]\n",
    "].dtypes"
   ]
  },
  {
   "cell_type": "code",
   "execution_count": 47,
   "metadata": {},
   "outputs": [
    {
     "data": {
      "text/html": [
       "<div>\n",
       "<style scoped>\n",
       "    .dataframe tbody tr th:only-of-type {\n",
       "        vertical-align: middle;\n",
       "    }\n",
       "\n",
       "    .dataframe tbody tr th {\n",
       "        vertical-align: top;\n",
       "    }\n",
       "\n",
       "    .dataframe thead th {\n",
       "        text-align: right;\n",
       "    }\n",
       "</style>\n",
       "<table border=\"1\" class=\"dataframe\">\n",
       "  <thead>\n",
       "    <tr style=\"text-align: right;\">\n",
       "      <th></th>\n",
       "      <th>price</th>\n",
       "      <th>host_response_rate</th>\n",
       "      <th>host_acceptance_rate</th>\n",
       "    </tr>\n",
       "  </thead>\n",
       "  <tbody>\n",
       "    <tr>\n",
       "      <th>0</th>\n",
       "      <td>17339.0</td>\n",
       "      <td>1.0</td>\n",
       "      <td>0.79</td>\n",
       "    </tr>\n",
       "    <tr>\n",
       "      <th>1</th>\n",
       "      <td>7807.0</td>\n",
       "      <td>1.0</td>\n",
       "      <td>1.00</td>\n",
       "    </tr>\n",
       "    <tr>\n",
       "      <th>2</th>\n",
       "      <td>61868.0</td>\n",
       "      <td>1.0</td>\n",
       "      <td>0.89</td>\n",
       "    </tr>\n",
       "    <tr>\n",
       "      <th>3</th>\n",
       "      <td>15330.0</td>\n",
       "      <td>1.0</td>\n",
       "      <td>0.99</td>\n",
       "    </tr>\n",
       "    <tr>\n",
       "      <th>4</th>\n",
       "      <td>20381.0</td>\n",
       "      <td>NaN</td>\n",
       "      <td>0.00</td>\n",
       "    </tr>\n",
       "  </tbody>\n",
       "</table>\n",
       "</div>"
      ],
      "text/plain": [
       "     price  host_response_rate  host_acceptance_rate\n",
       "0  17339.0                 1.0                  0.79\n",
       "1   7807.0                 1.0                  1.00\n",
       "2  61868.0                 1.0                  0.89\n",
       "3  15330.0                 1.0                  0.99\n",
       "4  20381.0                 NaN                  0.00"
      ]
     },
     "execution_count": 47,
     "metadata": {},
     "output_type": "execute_result"
    }
   ],
   "source": [
    "listings_df[\n",
    "    [\"price\",\"host_response_rate\",\"host_acceptance_rate\"]\n",
    "].head()"
   ]
  },
  {
   "cell_type": "code",
   "execution_count": 46,
   "metadata": {},
   "outputs": [
    {
     "ename": "AttributeError",
     "evalue": "Can only use .str accessor with string values!",
     "output_type": "error",
     "traceback": [
      "\u001b[1;31m---------------------------------------------------------------------------\u001b[0m",
      "\u001b[1;31mAttributeError\u001b[0m                            Traceback (most recent call last)",
      "Cell \u001b[1;32mIn[46], line 1\u001b[0m\n\u001b[1;32m----> 1\u001b[0m listings_df[\u001b[39m\"\u001b[39m\u001b[39mprice\u001b[39m\u001b[39m\"\u001b[39m] \u001b[39m=\u001b[39m listings_df[\u001b[39m\"\u001b[39;49m\u001b[39mprice\u001b[39;49m\u001b[39m\"\u001b[39;49m]\u001b[39m.\u001b[39;49mstr[\u001b[39m1\u001b[39m:]\u001b[39m.\u001b[39mstr\u001b[39m.\u001b[39mreplace(\u001b[39m\"\u001b[39m\u001b[39m,\u001b[39m\u001b[39m\"\u001b[39m,\u001b[39m\"\u001b[39m\u001b[39m\"\u001b[39m)\u001b[39m.\u001b[39mastype(\u001b[39m\"\u001b[39m\u001b[39mfloat\u001b[39m\u001b[39m\"\u001b[39m)\n\u001b[0;32m      2\u001b[0m listings_df[\u001b[39m\"\u001b[39m\u001b[39mhost_response_rate\u001b[39m\u001b[39m\"\u001b[39m] \u001b[39m=\u001b[39m listings_df[\u001b[39m\"\u001b[39m\u001b[39mhost_response_rate\u001b[39m\u001b[39m\"\u001b[39m]\u001b[39m.\u001b[39mstr[:\u001b[39m-\u001b[39m\u001b[39m1\u001b[39m]\u001b[39m.\u001b[39mastype(\u001b[39m\"\u001b[39m\u001b[39mfloat\u001b[39m\u001b[39m\"\u001b[39m) \u001b[39m/\u001b[39m \u001b[39m100\u001b[39m\n\u001b[0;32m      3\u001b[0m listings_df[\u001b[39m\"\u001b[39m\u001b[39mhost_acceptance_rate\u001b[39m\u001b[39m\"\u001b[39m] \u001b[39m=\u001b[39m listings_df[\u001b[39m\"\u001b[39m\u001b[39mhost_acceptance_rate\u001b[39m\u001b[39m\"\u001b[39m]\u001b[39m.\u001b[39mstr[:\u001b[39m-\u001b[39m\u001b[39m1\u001b[39m]\u001b[39m.\u001b[39mastype(\u001b[39m\"\u001b[39m\u001b[39mfloat\u001b[39m\u001b[39m\"\u001b[39m) \u001b[39m/\u001b[39m \u001b[39m100\u001b[39m\n",
      "File \u001b[1;32mc:\\Users\\jonna\\AppData\\Local\\Programs\\Python\\Python310\\lib\\site-packages\\pandas\\core\\generic.py:5989\u001b[0m, in \u001b[0;36mNDFrame.__getattr__\u001b[1;34m(self, name)\u001b[0m\n\u001b[0;32m   5982\u001b[0m \u001b[39mif\u001b[39;00m (\n\u001b[0;32m   5983\u001b[0m     name \u001b[39mnot\u001b[39;00m \u001b[39min\u001b[39;00m \u001b[39mself\u001b[39m\u001b[39m.\u001b[39m_internal_names_set\n\u001b[0;32m   5984\u001b[0m     \u001b[39mand\u001b[39;00m name \u001b[39mnot\u001b[39;00m \u001b[39min\u001b[39;00m \u001b[39mself\u001b[39m\u001b[39m.\u001b[39m_metadata\n\u001b[0;32m   5985\u001b[0m     \u001b[39mand\u001b[39;00m name \u001b[39mnot\u001b[39;00m \u001b[39min\u001b[39;00m \u001b[39mself\u001b[39m\u001b[39m.\u001b[39m_accessors\n\u001b[0;32m   5986\u001b[0m     \u001b[39mand\u001b[39;00m \u001b[39mself\u001b[39m\u001b[39m.\u001b[39m_info_axis\u001b[39m.\u001b[39m_can_hold_identifiers_and_holds_name(name)\n\u001b[0;32m   5987\u001b[0m ):\n\u001b[0;32m   5988\u001b[0m     \u001b[39mreturn\u001b[39;00m \u001b[39mself\u001b[39m[name]\n\u001b[1;32m-> 5989\u001b[0m \u001b[39mreturn\u001b[39;00m \u001b[39mobject\u001b[39;49m\u001b[39m.\u001b[39;49m\u001b[39m__getattribute__\u001b[39;49m(\u001b[39mself\u001b[39;49m, name)\n",
      "File \u001b[1;32mc:\\Users\\jonna\\AppData\\Local\\Programs\\Python\\Python310\\lib\\site-packages\\pandas\\core\\accessor.py:224\u001b[0m, in \u001b[0;36mCachedAccessor.__get__\u001b[1;34m(self, obj, cls)\u001b[0m\n\u001b[0;32m    221\u001b[0m \u001b[39mif\u001b[39;00m obj \u001b[39mis\u001b[39;00m \u001b[39mNone\u001b[39;00m:\n\u001b[0;32m    222\u001b[0m     \u001b[39m# we're accessing the attribute of the class, i.e., Dataset.geo\u001b[39;00m\n\u001b[0;32m    223\u001b[0m     \u001b[39mreturn\u001b[39;00m \u001b[39mself\u001b[39m\u001b[39m.\u001b[39m_accessor\n\u001b[1;32m--> 224\u001b[0m accessor_obj \u001b[39m=\u001b[39m \u001b[39mself\u001b[39;49m\u001b[39m.\u001b[39;49m_accessor(obj)\n\u001b[0;32m    225\u001b[0m \u001b[39m# Replace the property with the accessor object. Inspired by:\u001b[39;00m\n\u001b[0;32m    226\u001b[0m \u001b[39m# https://www.pydanny.com/cached-property.html\u001b[39;00m\n\u001b[0;32m    227\u001b[0m \u001b[39m# We need to use object.__setattr__ because we overwrite __setattr__ on\u001b[39;00m\n\u001b[0;32m    228\u001b[0m \u001b[39m# NDFrame\u001b[39;00m\n\u001b[0;32m    229\u001b[0m \u001b[39mobject\u001b[39m\u001b[39m.\u001b[39m\u001b[39m__setattr__\u001b[39m(obj, \u001b[39mself\u001b[39m\u001b[39m.\u001b[39m_name, accessor_obj)\n",
      "File \u001b[1;32mc:\\Users\\jonna\\AppData\\Local\\Programs\\Python\\Python310\\lib\\site-packages\\pandas\\core\\strings\\accessor.py:181\u001b[0m, in \u001b[0;36mStringMethods.__init__\u001b[1;34m(self, data)\u001b[0m\n\u001b[0;32m    178\u001b[0m \u001b[39mdef\u001b[39;00m \u001b[39m__init__\u001b[39m(\u001b[39mself\u001b[39m, data) \u001b[39m-\u001b[39m\u001b[39m>\u001b[39m \u001b[39mNone\u001b[39;00m:\n\u001b[0;32m    179\u001b[0m     \u001b[39mfrom\u001b[39;00m \u001b[39mpandas\u001b[39;00m\u001b[39m.\u001b[39;00m\u001b[39mcore\u001b[39;00m\u001b[39m.\u001b[39;00m\u001b[39marrays\u001b[39;00m\u001b[39m.\u001b[39;00m\u001b[39mstring_\u001b[39;00m \u001b[39mimport\u001b[39;00m StringDtype\n\u001b[1;32m--> 181\u001b[0m     \u001b[39mself\u001b[39m\u001b[39m.\u001b[39m_inferred_dtype \u001b[39m=\u001b[39m \u001b[39mself\u001b[39;49m\u001b[39m.\u001b[39;49m_validate(data)\n\u001b[0;32m    182\u001b[0m     \u001b[39mself\u001b[39m\u001b[39m.\u001b[39m_is_categorical \u001b[39m=\u001b[39m is_categorical_dtype(data\u001b[39m.\u001b[39mdtype)\n\u001b[0;32m    183\u001b[0m     \u001b[39mself\u001b[39m\u001b[39m.\u001b[39m_is_string \u001b[39m=\u001b[39m \u001b[39misinstance\u001b[39m(data\u001b[39m.\u001b[39mdtype, StringDtype)\n",
      "File \u001b[1;32mc:\\Users\\jonna\\AppData\\Local\\Programs\\Python\\Python310\\lib\\site-packages\\pandas\\core\\strings\\accessor.py:235\u001b[0m, in \u001b[0;36mStringMethods._validate\u001b[1;34m(data)\u001b[0m\n\u001b[0;32m    232\u001b[0m inferred_dtype \u001b[39m=\u001b[39m lib\u001b[39m.\u001b[39minfer_dtype(values, skipna\u001b[39m=\u001b[39m\u001b[39mTrue\u001b[39;00m)\n\u001b[0;32m    234\u001b[0m \u001b[39mif\u001b[39;00m inferred_dtype \u001b[39mnot\u001b[39;00m \u001b[39min\u001b[39;00m allowed_types:\n\u001b[1;32m--> 235\u001b[0m     \u001b[39mraise\u001b[39;00m \u001b[39mAttributeError\u001b[39;00m(\u001b[39m\"\u001b[39m\u001b[39mCan only use .str accessor with string values!\u001b[39m\u001b[39m\"\u001b[39m)\n\u001b[0;32m    236\u001b[0m \u001b[39mreturn\u001b[39;00m inferred_dtype\n",
      "\u001b[1;31mAttributeError\u001b[0m: Can only use .str accessor with string values!"
     ]
    }
   ],
   "source": [
    "listings_df[\"price\"] = listings_df[\"price\"].str[1:].str.replace(\",\",\"\").astype(\"float\")\n",
    "listings_df[\"host_response_rate\"] = listings_df[\"host_response_rate\"].str[:-1].astype(\"float\") / 100\n",
    "listings_df[\"host_acceptance_rate\"] = listings_df[\"host_acceptance_rate\"].str[:-1].astype(\"float\") / 100"
   ]
  },
  {
   "cell_type": "code",
   "execution_count": 18,
   "metadata": {},
   "outputs": [
    {
     "data": {
      "text/html": [
       "<div>\n",
       "<style scoped>\n",
       "    .dataframe tbody tr th:only-of-type {\n",
       "        vertical-align: middle;\n",
       "    }\n",
       "\n",
       "    .dataframe tbody tr th {\n",
       "        vertical-align: top;\n",
       "    }\n",
       "\n",
       "    .dataframe thead th {\n",
       "        text-align: right;\n",
       "    }\n",
       "</style>\n",
       "<table border=\"1\" class=\"dataframe\">\n",
       "  <thead>\n",
       "    <tr style=\"text-align: right;\">\n",
       "      <th></th>\n",
       "      <th>bathrooms_text</th>\n",
       "    </tr>\n",
       "  </thead>\n",
       "  <tbody>\n",
       "    <tr>\n",
       "      <th>0</th>\n",
       "      <td>1 bath</td>\n",
       "    </tr>\n",
       "    <tr>\n",
       "      <th>1</th>\n",
       "      <td>1 bath</td>\n",
       "    </tr>\n",
       "    <tr>\n",
       "      <th>2</th>\n",
       "      <td>1 bath</td>\n",
       "    </tr>\n",
       "    <tr>\n",
       "      <th>3</th>\n",
       "      <td>1 bath</td>\n",
       "    </tr>\n",
       "    <tr>\n",
       "      <th>4</th>\n",
       "      <td>1 bath</td>\n",
       "    </tr>\n",
       "  </tbody>\n",
       "</table>\n",
       "</div>"
      ],
      "text/plain": [
       "  bathrooms_text\n",
       "0         1 bath\n",
       "1         1 bath\n",
       "2         1 bath\n",
       "3         1 bath\n",
       "4         1 bath"
      ]
     },
     "execution_count": 18,
     "metadata": {},
     "output_type": "execute_result"
    }
   ],
   "source": [
    "listings_df[[\"bathrooms_text\"]].head()"
   ]
  },
  {
   "cell_type": "code",
   "execution_count": 22,
   "metadata": {},
   "outputs": [],
   "source": [
    "listings_df[\"bathroom_qty\"] = listings_df[\"bathrooms_text\"].str.split(\" \", expand=True)[0]\n",
    "listings_df[\"bathroom_type\"] = listings_df[\"bathrooms_text\"].str.split(\" \", expand=True)[1]\n"
   ]
  },
  {
   "cell_type": "code",
   "execution_count": 23,
   "metadata": {},
   "outputs": [],
   "source": [
    "import seaborn as sns\n",
    "sns.set_theme(font_scale=1.5, style=\"darkgrid\")"
   ]
  },
  {
   "cell_type": "code",
   "execution_count": 24,
   "metadata": {},
   "outputs": [
    {
     "name": "stderr",
     "output_type": "stream",
     "text": [
      "c:\\Users\\jonna\\AppData\\Local\\Programs\\Python\\Python310\\lib\\site-packages\\seaborn\\axisgrid.py:118: UserWarning: The figure layout has changed to tight\n",
      "  self._figure.tight_layout(*args, **kwargs)\n"
     ]
    },
    {
     "data": {
      "text/plain": [
       "<seaborn.axisgrid.FacetGrid at 0x20b2c3123e0>"
      ]
     },
     "execution_count": 24,
     "metadata": {},
     "output_type": "execute_result"
    },
    {
     "data": {
      "image/png": "[encoded data removed]",
      "text/plain": [
       "<Figure size 750x500 with 1 Axes>"
      ]
     },
     "metadata": {},
     "output_type": "display_data"
    }
   ],
   "source": [
    "sns.displot(data=listings_df, x=\"price\", kind=\"hist\", aspect=1.5)"
   ]
  },
  {
   "cell_type": "code",
   "execution_count": 25,
   "metadata": {},
   "outputs": [
    {
     "name": "stderr",
     "output_type": "stream",
     "text": [
      "c:\\Users\\jonna\\AppData\\Local\\Programs\\Python\\Python310\\lib\\site-packages\\seaborn\\axisgrid.py:118: UserWarning: The figure layout has changed to tight\n",
      "  self._figure.tight_layout(*args, **kwargs)\n"
     ]
    },
    {
     "data": {
      "text/plain": [
       "<seaborn.axisgrid.FacetGrid at 0x20b30358a00>"
      ]
     },
     "execution_count": 25,
     "metadata": {},
     "output_type": "execute_result"
    },
    {
     "data": {
      "image/png": "[encoded data removed]",
      "text/plain": [
       "<Figure size 750x500 with 1 Axes>"
      ]
     },
     "metadata": {},
     "output_type": "display_data"
    }
   ],
   "source": [
    "listings = listings_df[listings_df.price!=0]\n",
    "listings.loc[:,\"log_price\"] = np.log(listings.loc[:,\"price\"])\n",
    "sns.displot(data=listings, x=\"log_price\", kind=\"hist\", aspect=1.5)"
   ]
  },
  {
   "cell_type": "code",
   "execution_count": 26,
   "metadata": {},
   "outputs": [
    {
     "data": {
      "text/html": [
       "<div>\n",
       "<style scoped>\n",
       "    .dataframe tbody tr th:only-of-type {\n",
       "        vertical-align: middle;\n",
       "    }\n",
       "\n",
       "    .dataframe tbody tr th {\n",
       "        vertical-align: top;\n",
       "    }\n",
       "\n",
       "    .dataframe thead th {\n",
       "        text-align: right;\n",
       "    }\n",
       "</style>\n",
       "<table border=\"1\" class=\"dataframe\">\n",
       "  <thead>\n",
       "    <tr style=\"text-align: right;\">\n",
       "      <th></th>\n",
       "      <th>host_identity_verified</th>\n",
       "      <th>avg_price</th>\n",
       "      <th>qty</th>\n",
       "    </tr>\n",
       "  </thead>\n",
       "  <tbody>\n",
       "    <tr>\n",
       "      <th>0</th>\n",
       "      <td>f</td>\n",
       "      <td>42355.688525</td>\n",
       "      <td>1342</td>\n",
       "    </tr>\n",
       "    <tr>\n",
       "      <th>1</th>\n",
       "      <td>t</td>\n",
       "      <td>16189.252474</td>\n",
       "      <td>24862</td>\n",
       "    </tr>\n",
       "  </tbody>\n",
       "</table>\n",
       "</div>"
      ],
      "text/plain": [
       "  host_identity_verified     avg_price    qty\n",
       "0                      f  42355.688525   1342\n",
       "1                      t  16189.252474  24862"
      ]
     },
     "execution_count": 26,
     "metadata": {},
     "output_type": "execute_result"
    }
   ],
   "source": [
    "listings.groupby(\n",
    "    [\"host_identity_verified\"], \n",
    "    as_index=False\n",
    ").agg(\n",
    "    avg_price = (\"price\",\"mean\"),\n",
    "    qty = (\"price\",\"count\")\n",
    ")"
   ]
  },
  {
   "cell_type": "code",
   "execution_count": 27,
   "metadata": {},
   "outputs": [
    {
     "data": {
      "text/html": [
       "<div>\n",
       "<style scoped>\n",
       "    .dataframe tbody tr th:only-of-type {\n",
       "        vertical-align: middle;\n",
       "    }\n",
       "\n",
       "    .dataframe tbody tr th {\n",
       "        vertical-align: top;\n",
       "    }\n",
       "\n",
       "    .dataframe thead th {\n",
       "        text-align: right;\n",
       "    }\n",
       "</style>\n",
       "<table border=\"1\" class=\"dataframe\">\n",
       "  <thead>\n",
       "    <tr style=\"text-align: right;\">\n",
       "      <th></th>\n",
       "      <th>host_response_time</th>\n",
       "      <th>avg_price</th>\n",
       "      <th>qty</th>\n",
       "    </tr>\n",
       "  </thead>\n",
       "  <tbody>\n",
       "    <tr>\n",
       "      <th>0</th>\n",
       "      <td>a few days or more</td>\n",
       "      <td>24519.239163</td>\n",
       "      <td>669</td>\n",
       "    </tr>\n",
       "    <tr>\n",
       "      <th>1</th>\n",
       "      <td>within a day</td>\n",
       "      <td>18484.092835</td>\n",
       "      <td>1605</td>\n",
       "    </tr>\n",
       "    <tr>\n",
       "      <th>2</th>\n",
       "      <td>within a few hours</td>\n",
       "      <td>14850.199124</td>\n",
       "      <td>3425</td>\n",
       "    </tr>\n",
       "    <tr>\n",
       "      <th>3</th>\n",
       "      <td>within an hour</td>\n",
       "      <td>14706.514757</td>\n",
       "      <td>16534</td>\n",
       "    </tr>\n",
       "  </tbody>\n",
       "</table>\n",
       "</div>"
      ],
      "text/plain": [
       "   host_response_time     avg_price    qty\n",
       "0  a few days or more  24519.239163    669\n",
       "1        within a day  18484.092835   1605\n",
       "2  within a few hours  14850.199124   3425\n",
       "3      within an hour  14706.514757  16534"
      ]
     },
     "execution_count": 27,
     "metadata": {},
     "output_type": "execute_result"
    }
   ],
   "source": [
    "listings.groupby(\n",
    "    [\"host_response_time\"], as_index=False\n",
    ").agg(\n",
    "    avg_price = (\"price\",\"mean\"),\n",
    "    qty = (\"price\",\"count\")\n",
    ").sort_values(\n",
    "    by=\"avg_price\", ascending=False\n",
    ").reset_index(drop=True)\n"
   ]
  },
  {
   "cell_type": "code",
   "execution_count": 28,
   "metadata": {},
   "outputs": [
    {
     "name": "stderr",
     "output_type": "stream",
     "text": [
      "c:\\Users\\jonna\\AppData\\Local\\Programs\\Python\\Python310\\lib\\site-packages\\seaborn\\axisgrid.py:118: UserWarning: The figure layout has changed to tight\n",
      "  self._figure.tight_layout(*args, **kwargs)\n"
     ]
    },
    {
     "data": {
      "text/plain": [
       "<seaborn.axisgrid.FacetGrid at 0x20b0b31e4a0>"
      ]
     },
     "execution_count": 28,
     "metadata": {},
     "output_type": "execute_result"
    },
    {
     "data": {
      "image/png": "[encoded data removed]",
      "text/plain": [
       "<Figure size 1080x600 with 1 Axes>"
      ]
     },
     "metadata": {},
     "output_type": "display_data"
    }
   ],
   "source": [
    "sns.catplot(\n",
    "    data=listings, \n",
    "    x='accommodates', y='log_price', kind='box',\n",
    "    height=6, aspect=1.8, width=0.5\n",
    ")"
   ]
  },
  {
   "cell_type": "code",
   "execution_count": 30,
   "metadata": {},
   "outputs": [
    {
     "data": {
      "text/html": [
       "<div>\n",
       "<style scoped>\n",
       "    .dataframe tbody tr th:only-of-type {\n",
       "        vertical-align: middle;\n",
       "    }\n",
       "\n",
       "    .dataframe tbody tr th {\n",
       "        vertical-align: top;\n",
       "    }\n",
       "\n",
       "    .dataframe thead th {\n",
       "        text-align: right;\n",
       "    }\n",
       "</style>\n",
       "<table border=\"1\" class=\"dataframe\">\n",
       "  <thead>\n",
       "    <tr style=\"text-align: right;\">\n",
       "      <th></th>\n",
       "      <th>availability_30</th>\n",
       "      <th>availability_60</th>\n",
       "      <th>availability_90</th>\n",
       "      <th>availability_365</th>\n",
       "      <th>price</th>\n",
       "    </tr>\n",
       "  </thead>\n",
       "  <tbody>\n",
       "    <tr>\n",
       "      <th>availability_30</th>\n",
       "      <td>1.000000</td>\n",
       "      <td>0.905705</td>\n",
       "      <td>0.822588</td>\n",
       "      <td>0.404077</td>\n",
       "      <td>-0.005658</td>\n",
       "    </tr>\n",
       "    <tr>\n",
       "      <th>availability_60</th>\n",
       "      <td>0.905705</td>\n",
       "      <td>1.000000</td>\n",
       "      <td>0.966118</td>\n",
       "      <td>0.500140</td>\n",
       "      <td>-0.011079</td>\n",
       "    </tr>\n",
       "    <tr>\n",
       "      <th>availability_90</th>\n",
       "      <td>0.822588</td>\n",
       "      <td>0.966118</td>\n",
       "      <td>1.000000</td>\n",
       "      <td>0.548973</td>\n",
       "      <td>-0.014351</td>\n",
       "    </tr>\n",
       "    <tr>\n",
       "      <th>availability_365</th>\n",
       "      <td>0.404077</td>\n",
       "      <td>0.500140</td>\n",
       "      <td>0.548973</td>\n",
       "      <td>1.000000</td>\n",
       "      <td>-0.009376</td>\n",
       "    </tr>\n",
       "    <tr>\n",
       "      <th>price</th>\n",
       "      <td>-0.005658</td>\n",
       "      <td>-0.011079</td>\n",
       "      <td>-0.014351</td>\n",
       "      <td>-0.009376</td>\n",
       "      <td>1.000000</td>\n",
       "    </tr>\n",
       "  </tbody>\n",
       "</table>\n",
       "</div>"
      ],
      "text/plain": [
       "                  availability_30  availability_60  availability_90  \\\n",
       "availability_30          1.000000         0.905705         0.822588   \n",
       "availability_60          0.905705         1.000000         0.966118   \n",
       "availability_90          0.822588         0.966118         1.000000   \n",
       "availability_365         0.404077         0.500140         0.548973   \n",
       "price                   -0.005658        -0.011079        -0.014351   \n",
       "\n",
       "                  availability_365     price  \n",
       "availability_30           0.404077 -0.005658  \n",
       "availability_60           0.500140 -0.011079  \n",
       "availability_90           0.548973 -0.014351  \n",
       "availability_365          1.000000 -0.009376  \n",
       "price                    -0.009376  1.000000  "
      ]
     },
     "execution_count": 30,
     "metadata": {},
     "output_type": "execute_result"
    }
   ],
   "source": [
    "listings_df[[ \n",
    "    'availability_30', 'availability_60', \n",
    "    'availability_90', 'availability_365',\n",
    "    'price'\n",
    "]].corr()"
   ]
  },
  {
   "cell_type": "code",
   "execution_count": 31,
   "metadata": {},
   "outputs": [
    {
     "data": {
      "text/html": [
       "<div>\n",
       "<style scoped>\n",
       "    .dataframe tbody tr th:only-of-type {\n",
       "        vertical-align: middle;\n",
       "    }\n",
       "\n",
       "    .dataframe tbody tr th {\n",
       "        vertical-align: top;\n",
       "    }\n",
       "\n",
       "    .dataframe thead th {\n",
       "        text-align: right;\n",
       "    }\n",
       "</style>\n",
       "<table border=\"1\" class=\"dataframe\">\n",
       "  <thead>\n",
       "    <tr style=\"text-align: right;\">\n",
       "      <th></th>\n",
       "      <th>instant_bookable</th>\n",
       "      <th>avg_price</th>\n",
       "      <th>qty</th>\n",
       "    </tr>\n",
       "  </thead>\n",
       "  <tbody>\n",
       "    <tr>\n",
       "      <th>0</th>\n",
       "      <td>f</td>\n",
       "      <td>18392.082931</td>\n",
       "      <td>18449</td>\n",
       "    </tr>\n",
       "    <tr>\n",
       "      <th>1</th>\n",
       "      <td>t</td>\n",
       "      <td>15476.852482</td>\n",
       "      <td>7755</td>\n",
       "    </tr>\n",
       "  </tbody>\n",
       "</table>\n",
       "</div>"
      ],
      "text/plain": [
       "  instant_bookable     avg_price    qty\n",
       "0                f  18392.082931  18449\n",
       "1                t  15476.852482   7755"
      ]
     },
     "execution_count": 31,
     "metadata": {},
     "output_type": "execute_result"
    }
   ],
   "source": [
    "listings.groupby(\n",
    "    ['instant_bookable'], as_index=False\n",
    ").agg(\n",
    "    avg_price = (\"price\",\"mean\"),\n",
    "    qty = (\"price\",\"count\")\n",
    ")"
   ]
  },
  {
   "cell_type": "code",
   "execution_count": 32,
   "metadata": {},
   "outputs": [
    {
     "name": "stderr",
     "output_type": "stream",
     "text": [
      "c:\\Users\\jonna\\AppData\\Local\\Programs\\Python\\Python310\\lib\\site-packages\\seaborn\\axisgrid.py:118: UserWarning: The figure layout has changed to tight\n",
      "  self._figure.tight_layout(*args, **kwargs)\n"
     ]
    },
    {
     "data": {
      "text/plain": [
       "<seaborn.axisgrid.FacetGrid at 0x20b30358880>"
      ]
     },
     "execution_count": 32,
     "metadata": {},
     "output_type": "execute_result"
    },
    {
     "data": {
      "image/png": "[encoded data removed]",
      "text/plain": [
       "<Figure size 1080x600 with 1 Axes>"
      ]
     },
     "metadata": {},
     "output_type": "display_data"
    }
   ],
   "source": [
    "sns.catplot(\n",
    "    data=listings, \n",
    "    x='room_type', y='log_price', kind='box',\n",
    "    height=6, aspect=1.8, width=0.5\n",
    ")"
   ]
  },
  {
   "cell_type": "code",
   "execution_count": 34,
   "metadata": {},
   "outputs": [
    {
     "name": "stderr",
     "output_type": "stream",
     "text": [
      "c:\\Users\\jonna\\AppData\\Local\\Programs\\Python\\Python310\\lib\\site-packages\\seaborn\\axisgrid.py:118: UserWarning: The figure layout has changed to tight\n",
      "  self._figure.tight_layout(*args, **kwargs)\n"
     ]
    },
    {
     "data": {
      "text/plain": [
       "<seaborn.axisgrid.FacetGrid at 0x20b60b2e0b0>"
      ]
     },
     "execution_count": 34,
     "metadata": {},
     "output_type": "execute_result"
    },
    {
     "data": {
      "image/png": "[encoded data removed]",
      "text/plain": [
       "<Figure size 1080x600 with 1 Axes>"
      ]
     },
     "metadata": {},
     "output_type": "display_data"
    }
   ],
   "source": [
    "sns.catplot(\n",
    "    data=listings, \n",
    "    x='room_type', y='log_price', kind='box',\n",
    "    height=6, aspect=1.8, width=0.5\n",
    ")"
   ]
  },
  {
   "cell_type": "code",
   "execution_count": 35,
   "metadata": {},
   "outputs": [],
   "source": [
    "listings_df.loc[:,\"has_coffee_maker\"] = ['coffee maker' in row.lower() for row in listings_df.amenities]"
   ]
  },
  {
   "cell_type": "code",
   "execution_count": 36,
   "metadata": {},
   "outputs": [
    {
     "data": {
      "text/plain": [
       "has_coffee_maker\n",
       "True     15743\n",
       "False    10461\n",
       "Name: count, dtype: int64"
      ]
     },
     "execution_count": 36,
     "metadata": {},
     "output_type": "execute_result"
    }
   ],
   "source": [
    "listings_df.has_coffee_maker.value_counts()"
   ]
  },
  {
   "cell_type": "code",
   "execution_count": 38,
   "metadata": {},
   "outputs": [
    {
     "data": {
      "text/html": [
       "<div>\n",
       "<style scoped>\n",
       "    .dataframe tbody tr th:only-of-type {\n",
       "        vertical-align: middle;\n",
       "    }\n",
       "\n",
       "    .dataframe tbody tr th {\n",
       "        vertical-align: top;\n",
       "    }\n",
       "\n",
       "    .dataframe thead th {\n",
       "        text-align: right;\n",
       "    }\n",
       "</style>\n",
       "<table border=\"1\" class=\"dataframe\">\n",
       "  <thead>\n",
       "    <tr style=\"text-align: right;\">\n",
       "      <th></th>\n",
       "      <th>avg_price</th>\n",
       "    </tr>\n",
       "    <tr>\n",
       "      <th>has_coffee_maker</th>\n",
       "      <th></th>\n",
       "    </tr>\n",
       "  </thead>\n",
       "  <tbody>\n",
       "    <tr>\n",
       "      <th>False</th>\n",
       "      <td>17607.141765</td>\n",
       "    </tr>\n",
       "    <tr>\n",
       "      <th>True</th>\n",
       "      <td>17477.623007</td>\n",
       "    </tr>\n",
       "  </tbody>\n",
       "</table>\n",
       "</div>"
      ],
      "text/plain": [
       "                     avg_price\n",
       "has_coffee_maker              \n",
       "False             17607.141765\n",
       "True              17477.623007"
      ]
     },
     "execution_count": 38,
     "metadata": {},
     "output_type": "execute_result"
    }
   ],
   "source": [
    "listings_df.groupby(\n",
    "    [\"has_coffee_maker\"]\n",
    ").agg(\n",
    "    avg_price = (\"price\", \"mean\")\n",
    ")"
   ]
  },
  {
   "cell_type": "code",
   "execution_count": 40,
   "metadata": {},
   "outputs": [],
   "source": [
    "rental_price = listings_df.loc[:, 'price']"
   ]
  },
  {
   "cell_type": "code",
   "execution_count": 41,
   "metadata": {},
   "outputs": [
    {
     "name": "stdout",
     "output_type": "stream",
     "text": [
      "The average rental price is: $ 17529.33\n"
     ]
    }
   ],
   "source": [
    "mean_rent = np.mean(rental_price)\n",
    "print('The average rental price is: $', round(mean_rent, 2))"
   ]
  },
  {
   "cell_type": "code",
   "execution_count": 42,
   "metadata": {},
   "outputs": [
    {
     "name": "stdout",
     "output_type": "stream",
     "text": [
      "The maximum rental price is: $ 25295088.0\n"
     ]
    }
   ],
   "source": [
    "max_rent = np.max(rental_price)\n",
    "print('The maximum rental price is: $', round(max_rent, 2))"
   ]
  },
  {
   "cell_type": "code",
   "execution_count": 43,
   "metadata": {},
   "outputs": [
    {
     "name": "stdout",
     "output_type": "stream",
     "text": [
      "The minimum rental price is: $ 175.0\n"
     ]
    }
   ],
   "source": [
    "min_rent = np.min(rental_price)\n",
    "print('The minimum rental price is: $', round(min_rent, 2))\n"
   ]
  },
  {
   "cell_type": "code",
   "execution_count": 44,
   "metadata": {},
   "outputs": [
    {
     "name": "stdout",
     "output_type": "stream",
     "text": [
      "The standard deviation of rental prices is: $ 175398.42\n"
     ]
    }
   ],
   "source": [
    "rent_std = np.std(rental_price)\n",
    "print('The standard deviation of rental prices is: $', round(rent_std, 2))"
   ]
  },
  {
   "cell_type": "code",
   "execution_count": 48,
   "metadata": {},
   "outputs": [
    {
     "name": "stdout",
     "output_type": "stream",
     "text": [
      "The median rental price is: $ 10190.0\n"
     ]
    }
   ],
   "source": [
    "median_rent = np.median(rental_price)\n",
    "print('The median rental price is: $', round(median_rent, 2))"
   ]
  },
  {
   "cell_type": "code",
   "execution_count": 51,
   "metadata": {},
   "outputs": [],
   "source": [
    "# Assigning variable\n",
    "region = listings_df.loc[:, 'neighbourhood_cleansed']"
   ]
  },
  {
   "cell_type": "code",
   "execution_count": 52,
   "metadata": {},
   "outputs": [
    {
     "name": "stdout",
     "output_type": "stream",
     "text": [
      "Number of distinct regions: ['Palermo' 'Recoleta' 'Nuñez' 'Monserrat' 'Balvanera' 'Retiro'\n",
      " 'Constitucion' 'Barracas' 'San Nicolas' 'Chacarita' 'Almagro'\n",
      " 'Puerto Madero' 'Villa Crespo' 'Belgrano' 'Coghlan' 'Parque Chacabuco'\n",
      " 'San Cristobal' 'Villa Urquiza' 'San Telmo' 'Boedo' 'Colegiales' 'Boca'\n",
      " 'Caballito' 'Villa Luro' 'Villa Devoto' 'Saavedra' 'Flores'\n",
      " 'Monte Castro' 'Villa Ortuzar' 'Villa Gral. Mitre' 'Velez Sarsfield'\n",
      " 'Parque Patricios' 'Villa Del Parque' 'Floresta' 'Paternal'\n",
      " 'Villa Pueyrredon' 'Villa Santa Rita' 'Liniers' 'Agronomia'\n",
      " 'Parque Avellaneda' 'Villa Real' 'Parque Chas' 'Villa Lugano' 'Versalles'\n",
      " 'Nueva Pompeya' 'Villa Riachuelo' 'Villa Soldati' 'Mataderos']\n"
     ]
    }
   ],
   "source": [
    "# Extracting unique values from the variable\n",
    "unique_regions = pd.unique(region)\n",
    "print('Number of distinct regions:', unique_regions)"
   ]
  },
  {
   "cell_type": "code",
   "execution_count": 53,
   "metadata": {},
   "outputs": [
    {
     "name": "stdout",
     "output_type": "stream",
     "text": [
      "Number of distinct regions: 48\n"
     ]
    }
   ],
   "source": [
    "unique_regions_count = listings_df['neighbourhood_cleansed'].value_counts().count()\n",
    "print('Number of distinct regions:', unique_regions_count)"
   ]
  },
  {
   "cell_type": "code",
   "execution_count": 55,
   "metadata": {},
   "outputs": [
    {
     "data": {
      "text/plain": [
       "neighbourhood_cleansed\n",
       "Palermo              33.58\n",
       "Recoleta             14.86\n",
       "San Nicolas           5.87\n",
       "Belgrano              5.41\n",
       "Retiro                4.77\n",
       "Monserrat             3.99\n",
       "Almagro               3.56\n",
       "Villa Crespo          3.40\n",
       "Balvanera             3.23\n",
       "San Telmo             2.71\n",
       "Colegiales            2.38\n",
       "Nuñez                 2.29\n",
       "Caballito             1.96\n",
       "Chacarita             1.64\n",
       "Constitucion          1.28\n",
       "Villa Urquiza         1.24\n",
       "Puerto Madero         1.14\n",
       "Barracas              0.78\n",
       "Saavedra              0.72\n",
       "San Cristobal         0.53\n",
       "Flores                0.47\n",
       "Villa Ortuzar         0.40\n",
       "Coghlan               0.36\n",
       "Villa Devoto          0.35\n",
       "Boca                  0.34\n",
       "Boedo                 0.32\n",
       "Villa Del Parque      0.31\n",
       "Parque Chacabuco      0.26\n",
       "Parque Patricios      0.26\n",
       "Parque Chas           0.23\n",
       "Villa Pueyrredon      0.21\n",
       "Paternal              0.16\n",
       "Agronomia             0.15\n",
       "Floresta              0.14\n",
       "Villa Santa Rita      0.13\n",
       "Villa Luro            0.10\n",
       "Mataderos             0.08\n",
       "Villa Gral. Mitre     0.08\n",
       "Liniers               0.07\n",
       "Velez Sarsfield       0.06\n",
       "Monte Castro          0.04\n",
       "Nueva Pompeya         0.04\n",
       "Villa Real            0.03\n",
       "Parque Avellaneda     0.03\n",
       "Villa Lugano          0.02\n",
       "Versalles             0.02\n",
       "Villa Riachuelo       0.01\n",
       "Villa Soldati         0.00\n",
       "Name: proportion, dtype: float64"
      ]
     },
     "execution_count": 55,
     "metadata": {},
     "output_type": "execute_result"
    }
   ],
   "source": [
    "percent_by_region = round(listings_df['neighbourhood_cleansed'].value_counts(normalize=True) * 100, 2)\n",
    "percent_by_region"
   ]
  },
  {
   "cell_type": "code",
   "execution_count": null,
   "metadata": {},
   "outputs": [],
   "source": []
  }
 ],
 "metadata": {
  "kernelspec": {
   "display_name": "Python 3",
   "language": "python",
   "name": "python3"
  },
  "language_info": {
   "codemirror_mode": {
    "name": "ipython",
    "version": 3
   },
   "file_extension": ".py",
   "mimetype": "text/x-python",
   "name": "python",
   "nbconvert_exporter": "python",
   "pygments_lexer": "ipython3",
   "version": "3.10.7"
  },
  "orig_nbformat": 4
 },
 "nbformat": 4,
 "nbformat_minor": 2
}
